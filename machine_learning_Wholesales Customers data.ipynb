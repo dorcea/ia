{
 "cells": [
  {
   "cell_type": "code",
   "execution_count": 1,
   "id": "88a4c606",
   "metadata": {},
   "outputs": [],
   "source": [
    "import numpy as np\n",
    "import pandas as pd\n",
    "import matplotlib.pyplot as plt\n",
    "import seaborn as sb"
   ]
  },
  {
   "cell_type": "code",
   "execution_count": 3,
   "id": "81b481b7",
   "metadata": {},
   "outputs": [
    {
     "data": {
      "text/html": [
       "<div>\n",
       "<style scoped>\n",
       "    .dataframe tbody tr th:only-of-type {\n",
       "        vertical-align: middle;\n",
       "    }\n",
       "\n",
       "    .dataframe tbody tr th {\n",
       "        vertical-align: top;\n",
       "    }\n",
       "\n",
       "    .dataframe thead th {\n",
       "        text-align: right;\n",
       "    }\n",
       "</style>\n",
       "<table border=\"1\" class=\"dataframe\">\n",
       "  <thead>\n",
       "    <tr style=\"text-align: right;\">\n",
       "      <th></th>\n",
       "      <th>Channel</th>\n",
       "      <th>Region</th>\n",
       "      <th>Fresh</th>\n",
       "      <th>Milk</th>\n",
       "      <th>Grocery</th>\n",
       "      <th>Frozen</th>\n",
       "      <th>Detergents_Paper</th>\n",
       "      <th>Delicassen</th>\n",
       "    </tr>\n",
       "  </thead>\n",
       "  <tbody>\n",
       "    <tr>\n",
       "      <th>0</th>\n",
       "      <td>2</td>\n",
       "      <td>3</td>\n",
       "      <td>12669</td>\n",
       "      <td>9656</td>\n",
       "      <td>7561</td>\n",
       "      <td>214</td>\n",
       "      <td>2674</td>\n",
       "      <td>1338</td>\n",
       "    </tr>\n",
       "    <tr>\n",
       "      <th>1</th>\n",
       "      <td>2</td>\n",
       "      <td>3</td>\n",
       "      <td>7057</td>\n",
       "      <td>9810</td>\n",
       "      <td>9568</td>\n",
       "      <td>1762</td>\n",
       "      <td>3293</td>\n",
       "      <td>1776</td>\n",
       "    </tr>\n",
       "    <tr>\n",
       "      <th>2</th>\n",
       "      <td>2</td>\n",
       "      <td>3</td>\n",
       "      <td>6353</td>\n",
       "      <td>8808</td>\n",
       "      <td>7684</td>\n",
       "      <td>2405</td>\n",
       "      <td>3516</td>\n",
       "      <td>7844</td>\n",
       "    </tr>\n",
       "    <tr>\n",
       "      <th>3</th>\n",
       "      <td>1</td>\n",
       "      <td>3</td>\n",
       "      <td>13265</td>\n",
       "      <td>1196</td>\n",
       "      <td>4221</td>\n",
       "      <td>6404</td>\n",
       "      <td>507</td>\n",
       "      <td>1788</td>\n",
       "    </tr>\n",
       "    <tr>\n",
       "      <th>4</th>\n",
       "      <td>2</td>\n",
       "      <td>3</td>\n",
       "      <td>22615</td>\n",
       "      <td>5410</td>\n",
       "      <td>7198</td>\n",
       "      <td>3915</td>\n",
       "      <td>1777</td>\n",
       "      <td>5185</td>\n",
       "    </tr>\n",
       "    <tr>\n",
       "      <th>...</th>\n",
       "      <td>...</td>\n",
       "      <td>...</td>\n",
       "      <td>...</td>\n",
       "      <td>...</td>\n",
       "      <td>...</td>\n",
       "      <td>...</td>\n",
       "      <td>...</td>\n",
       "      <td>...</td>\n",
       "    </tr>\n",
       "    <tr>\n",
       "      <th>435</th>\n",
       "      <td>1</td>\n",
       "      <td>3</td>\n",
       "      <td>29703</td>\n",
       "      <td>12051</td>\n",
       "      <td>16027</td>\n",
       "      <td>13135</td>\n",
       "      <td>182</td>\n",
       "      <td>2204</td>\n",
       "    </tr>\n",
       "    <tr>\n",
       "      <th>436</th>\n",
       "      <td>1</td>\n",
       "      <td>3</td>\n",
       "      <td>39228</td>\n",
       "      <td>1431</td>\n",
       "      <td>764</td>\n",
       "      <td>4510</td>\n",
       "      <td>93</td>\n",
       "      <td>2346</td>\n",
       "    </tr>\n",
       "    <tr>\n",
       "      <th>437</th>\n",
       "      <td>2</td>\n",
       "      <td>3</td>\n",
       "      <td>14531</td>\n",
       "      <td>15488</td>\n",
       "      <td>30243</td>\n",
       "      <td>437</td>\n",
       "      <td>14841</td>\n",
       "      <td>1867</td>\n",
       "    </tr>\n",
       "    <tr>\n",
       "      <th>438</th>\n",
       "      <td>1</td>\n",
       "      <td>3</td>\n",
       "      <td>10290</td>\n",
       "      <td>1981</td>\n",
       "      <td>2232</td>\n",
       "      <td>1038</td>\n",
       "      <td>168</td>\n",
       "      <td>2125</td>\n",
       "    </tr>\n",
       "    <tr>\n",
       "      <th>439</th>\n",
       "      <td>1</td>\n",
       "      <td>3</td>\n",
       "      <td>2787</td>\n",
       "      <td>1698</td>\n",
       "      <td>2510</td>\n",
       "      <td>65</td>\n",
       "      <td>477</td>\n",
       "      <td>52</td>\n",
       "    </tr>\n",
       "  </tbody>\n",
       "</table>\n",
       "<p>440 rows × 8 columns</p>\n",
       "</div>"
      ],
      "text/plain": [
       "     Channel  Region  Fresh   Milk  Grocery  Frozen  Detergents_Paper  \\\n",
       "0          2       3  12669   9656     7561     214              2674   \n",
       "1          2       3   7057   9810     9568    1762              3293   \n",
       "2          2       3   6353   8808     7684    2405              3516   \n",
       "3          1       3  13265   1196     4221    6404               507   \n",
       "4          2       3  22615   5410     7198    3915              1777   \n",
       "..       ...     ...    ...    ...      ...     ...               ...   \n",
       "435        1       3  29703  12051    16027   13135               182   \n",
       "436        1       3  39228   1431      764    4510                93   \n",
       "437        2       3  14531  15488    30243     437             14841   \n",
       "438        1       3  10290   1981     2232    1038               168   \n",
       "439        1       3   2787   1698     2510      65               477   \n",
       "\n",
       "     Delicassen  \n",
       "0          1338  \n",
       "1          1776  \n",
       "2          7844  \n",
       "3          1788  \n",
       "4          5185  \n",
       "..          ...  \n",
       "435        2204  \n",
       "436        2346  \n",
       "437        1867  \n",
       "438        2125  \n",
       "439          52  \n",
       "\n",
       "[440 rows x 8 columns]"
      ]
     },
     "execution_count": 3,
     "metadata": {},
     "output_type": "execute_result"
    }
   ],
   "source": [
    "#afisam data setul wholesales\n",
    "df = pd.read_csv('Wholesale customers data.csv')\n",
    "df"
   ]
  },
  {
   "cell_type": "code",
   "execution_count": 6,
   "id": "fd2c7453",
   "metadata": {},
   "outputs": [
    {
     "name": "stdout",
     "output_type": "stream",
     "text": [
      "<class 'pandas.core.frame.DataFrame'>\n",
      "RangeIndex: 440 entries, 0 to 439\n",
      "Data columns (total 8 columns):\n",
      " #   Column            Non-Null Count  Dtype\n",
      "---  ------            --------------  -----\n",
      " 0   Channel           440 non-null    int64\n",
      " 1   Region            440 non-null    int64\n",
      " 2   Fresh             440 non-null    int64\n",
      " 3   Milk              440 non-null    int64\n",
      " 4   Grocery           440 non-null    int64\n",
      " 5   Frozen            440 non-null    int64\n",
      " 6   Detergents_Paper  440 non-null    int64\n",
      " 7   Delicassen        440 non-null    int64\n",
      "dtypes: int64(8)\n",
      "memory usage: 27.6 KB\n"
     ]
    }
   ],
   "source": [
    "# informatii despre coloane\n",
    "df.info()"
   ]
  },
  {
   "cell_type": "code",
   "execution_count": 7,
   "id": "77ec4b13",
   "metadata": {},
   "outputs": [],
   "source": [
    "# scoatem matricea X\n",
    "X = df.values"
   ]
  },
  {
   "cell_type": "code",
   "execution_count": 8,
   "id": "d57bc86a",
   "metadata": {},
   "outputs": [
    {
     "data": {
      "text/plain": [
       "array([[    2,     3, 12669, ...,   214,  2674,  1338],\n",
       "       [    2,     3,  7057, ...,  1762,  3293,  1776],\n",
       "       [    2,     3,  6353, ...,  2405,  3516,  7844],\n",
       "       ...,\n",
       "       [    2,     3, 14531, ...,   437, 14841,  1867],\n",
       "       [    1,     3, 10290, ...,  1038,   168,  2125],\n",
       "       [    1,     3,  2787, ...,    65,   477,    52]], dtype=int64)"
      ]
     },
     "execution_count": 8,
     "metadata": {},
     "output_type": "execute_result"
    }
   ],
   "source": [
    "X"
   ]
  },
  {
   "cell_type": "code",
   "execution_count": 9,
   "id": "a35aee82",
   "metadata": {},
   "outputs": [],
   "source": [
    "from sklearn.metrics import silhouette_score\n",
    "from sklearn.mixture import GaussianMixture"
   ]
  },
  {
   "cell_type": "code",
   "execution_count": 10,
   "id": "9ca3ee6d",
   "metadata": {},
   "outputs": [],
   "source": [
    "# creem o lista goala unde vom pastra scorurile noatre\n",
    "scores = []\n",
    "for k in range(2,11):\n",
    "    gmm = GaussianMixture(n_components=k)\n",
    "    gmm.fit(X)\n",
    "    y_pred = gmm.predict(X)\n",
    "    scores.append(silhouette_score(X, y_pred))"
   ]
  },
  {
   "cell_type": "code",
   "execution_count": 11,
   "id": "4cf06a2c",
   "metadata": {},
   "outputs": [
    {
     "data": {
      "text/plain": [
       "[0.4180308798559112,\n",
       " -0.06732057916843202,\n",
       " 0.20799045972423155,\n",
       " 0.0722395173823217,\n",
       " 0.17269430544882522,\n",
       " 0.21203917537344233,\n",
       " -0.08394700462601563,\n",
       " -0.025205640604682673,\n",
       " -0.07160617963928725]"
      ]
     },
     "execution_count": 11,
     "metadata": {},
     "output_type": "execute_result"
    }
   ],
   "source": [
    "scores"
   ]
  },
  {
   "cell_type": "code",
   "execution_count": 12,
   "id": "10eb6a23",
   "metadata": {},
   "outputs": [
    {
     "data": {
      "text/plain": [
       "[<matplotlib.lines.Line2D at 0x1ff056d61c8>]"
      ]
     },
     "execution_count": 12,
     "metadata": {},
     "output_type": "execute_result"
    },
    {
     "data": {
      "image/png": "[encoded data removed]",
      "text/plain": [
       "<Figure size 432x288 with 1 Axes>"
      ]
     },
     "metadata": {
      "needs_background": "light"
     },
     "output_type": "display_data"
    }
   ],
   "source": [
    "plt.plot(range(2,11), scores)"
   ]
  },
  {
   "cell_type": "code",
   "execution_count": 13,
   "id": "f9438d93",
   "metadata": {},
   "outputs": [],
   "source": [
    "#afisam valorile cind este 5\n",
    "gmm = GaussianMixture(n_components=5)\n",
    "gmm.fit(X)\n",
    "y_pred = gmm.predict(X)"
   ]
  },
  {
   "cell_type": "code",
   "execution_count": 14,
   "id": "fe1facad",
   "metadata": {},
   "outputs": [
    {
     "data": {
      "text/plain": [
       "array([1, 1, 1, 0, 1, 1, 1, 1, 3, 1, 1, 1, 1, 1, 1, 0, 1, 0, 1, 3, 1, 0,\n",
       "       2, 2, 1, 1, 0, 0, 1, 0, 3, 0, 0, 0, 0, 1, 0, 1, 1, 0, 0, 3, 1, 1,\n",
       "       1, 1, 1, 4, 1, 1, 0, 3, 1, 1, 0, 3, 1, 1, 0, 3, 1, 4, 1, 1, 0, 1,\n",
       "       3, 1, 0, 0, 0, 2, 0, 1, 1, 0, 0, 1, 0, 3, 0, 1, 1, 0, 1, 4, 4, 2,\n",
       "       0, 0, 0, 0, 1, 2, 1, 3, 1, 0, 0, 0, 1, 1, 1, 0, 3, 0, 1, 1, 1, 1,\n",
       "       0, 1, 0, 0, 0, 0, 0, 0, 0, 0, 0, 0, 0, 1, 0, 0, 0, 1, 3, 0, 0, 0,\n",
       "       0, 0, 0, 0, 3, 3, 0, 3, 0, 2, 0, 0, 0, 1, 0, 3, 0, 0, 0, 0, 0, 3,\n",
       "       0, 1, 1, 0, 1, 1, 1, 0, 0, 1, 1, 1, 1, 3, 0, 0, 1, 1, 3, 1, 0, 1,\n",
       "       0, 3, 3, 0, 3, 2, 3, 2, 0, 3, 0, 3, 1, 1, 0, 0, 0, 1, 0, 0, 0, 1,\n",
       "       0, 0, 1, 1, 2, 3, 0, 1, 0, 1, 3, 1, 0, 1, 0, 3, 1, 3, 1, 0, 1, 0,\n",
       "       0, 3, 0, 1, 0, 0, 1, 0, 3, 0, 1, 3, 0, 3, 0, 3, 0, 0, 0, 0, 0, 0,\n",
       "       0, 3, 3, 1, 0, 0, 0, 0, 0, 1, 0, 2, 3, 0, 0, 3, 0, 0, 3, 0, 0, 3,\n",
       "       1, 2, 1, 0, 1, 0, 0, 3, 3, 0, 0, 0, 0, 0, 0, 1, 0, 1, 0, 0, 0, 0,\n",
       "       3, 0, 0, 0, 0, 0, 0, 1, 0, 1, 0, 1, 1, 0, 1, 1, 1, 1, 1, 1, 1, 0,\n",
       "       0, 1, 0, 0, 1, 0, 3, 1, 0, 0, 0, 1, 0, 0, 3, 3, 0, 2, 0, 0, 0, 0,\n",
       "       0, 1, 0, 4, 2, 1, 0, 0, 0, 0, 1, 1, 3, 1, 0, 3, 1, 1, 3, 1, 0, 1,\n",
       "       0, 1, 0, 0, 0, 1, 2, 3, 0, 0, 0, 3, 0, 1, 0, 0, 0, 0, 1, 0, 0, 1,\n",
       "       0, 0, 1, 0, 0, 1, 0, 0, 0, 0, 2, 0, 0, 0, 0, 0, 0, 0, 0, 0, 0, 0,\n",
       "       1, 0, 0, 0, 0, 0, 0, 2, 0, 0, 0, 1, 1, 2, 3, 0, 3, 0, 0, 1, 1, 3,\n",
       "       1, 3, 3, 1, 0, 1, 1, 0, 3, 2, 3, 0, 3, 0, 0, 0, 3, 2, 0, 1, 0, 0],\n",
       "      dtype=int64)"
      ]
     },
     "execution_count": 14,
     "metadata": {},
     "output_type": "execute_result"
    }
   ],
   "source": [
    "y_pred"
   ]
  },
  {
   "cell_type": "code",
   "execution_count": 15,
   "id": "140167e6",
   "metadata": {},
   "outputs": [
    {
     "data": {
      "text/plain": [
       "array([[1.00000000e+00, 2.53629952e+00, 1.45592059e+04, 2.20817512e+03,\n",
       "        2.80081535e+03, 3.72831321e+03, 4.09861420e+02, 1.05408373e+03],\n",
       "       [2.00000000e+00, 2.60739885e+00, 8.09783429e+03, 9.38574179e+03,\n",
       "        1.47089612e+04, 1.51696838e+03, 6.50168220e+03, 1.59582855e+03],\n",
       "       [1.10464302e+00, 2.57907722e+00, 2.78709366e+04, 1.46389940e+04,\n",
       "        1.08841563e+04, 1.28177295e+04, 1.30306895e+03, 7.80213029e+03],\n",
       "       [1.00000000e+00, 2.40188246e+00, 5.86269698e+03, 4.77008015e+03,\n",
       "        6.05460096e+03, 1.28059977e+03, 1.95729921e+03, 1.00408994e+03],\n",
       "       [2.00000000e+00, 2.80000000e+00, 2.56030000e+04, 4.34606000e+04,\n",
       "        6.14722000e+04, 2.63600000e+03, 2.99742000e+04, 2.70880000e+03]])"
      ]
     },
     "execution_count": 15,
     "metadata": {},
     "output_type": "execute_result"
    }
   ],
   "source": [
    "# afisam vectorii medii cu gmm\n",
    "gmm.means_"
   ]
  },
  {
   "cell_type": "code",
   "execution_count": 16,
   "id": "5986b24a",
   "metadata": {},
   "outputs": [],
   "source": [
    "# facem ca un tabel, analiza prescriptiva\n",
    "cluster_table = pd.DataFrame(gmm.means_,columns = df.columns)"
   ]
  },
  {
   "cell_type": "code",
   "execution_count": 17,
   "id": "9c778a6d",
   "metadata": {},
   "outputs": [
    {
     "data": {
      "text/html": [
       "<div>\n",
       "<style scoped>\n",
       "    .dataframe tbody tr th:only-of-type {\n",
       "        vertical-align: middle;\n",
       "    }\n",
       "\n",
       "    .dataframe tbody tr th {\n",
       "        vertical-align: top;\n",
       "    }\n",
       "\n",
       "    .dataframe thead th {\n",
       "        text-align: right;\n",
       "    }\n",
       "</style>\n",
       "<table border=\"1\" class=\"dataframe\">\n",
       "  <thead>\n",
       "    <tr style=\"text-align: right;\">\n",
       "      <th></th>\n",
       "      <th>Channel</th>\n",
       "      <th>Region</th>\n",
       "      <th>Fresh</th>\n",
       "      <th>Milk</th>\n",
       "      <th>Grocery</th>\n",
       "      <th>Frozen</th>\n",
       "      <th>Detergents_Paper</th>\n",
       "      <th>Delicassen</th>\n",
       "    </tr>\n",
       "  </thead>\n",
       "  <tbody>\n",
       "    <tr>\n",
       "      <th>0</th>\n",
       "      <td>1.000000</td>\n",
       "      <td>2.536300</td>\n",
       "      <td>14559.205877</td>\n",
       "      <td>2208.175119</td>\n",
       "      <td>2800.815349</td>\n",
       "      <td>3728.313212</td>\n",
       "      <td>409.861420</td>\n",
       "      <td>1054.083734</td>\n",
       "    </tr>\n",
       "    <tr>\n",
       "      <th>1</th>\n",
       "      <td>2.000000</td>\n",
       "      <td>2.607399</td>\n",
       "      <td>8097.834292</td>\n",
       "      <td>9385.741787</td>\n",
       "      <td>14708.961168</td>\n",
       "      <td>1516.968379</td>\n",
       "      <td>6501.682201</td>\n",
       "      <td>1595.828547</td>\n",
       "    </tr>\n",
       "    <tr>\n",
       "      <th>2</th>\n",
       "      <td>1.104643</td>\n",
       "      <td>2.579077</td>\n",
       "      <td>27870.936550</td>\n",
       "      <td>14638.993980</td>\n",
       "      <td>10884.156324</td>\n",
       "      <td>12817.729483</td>\n",
       "      <td>1303.068946</td>\n",
       "      <td>7802.130293</td>\n",
       "    </tr>\n",
       "    <tr>\n",
       "      <th>3</th>\n",
       "      <td>1.000000</td>\n",
       "      <td>2.401882</td>\n",
       "      <td>5862.696977</td>\n",
       "      <td>4770.080152</td>\n",
       "      <td>6054.600964</td>\n",
       "      <td>1280.599774</td>\n",
       "      <td>1957.299207</td>\n",
       "      <td>1004.089938</td>\n",
       "    </tr>\n",
       "    <tr>\n",
       "      <th>4</th>\n",
       "      <td>2.000000</td>\n",
       "      <td>2.800000</td>\n",
       "      <td>25603.000000</td>\n",
       "      <td>43460.600000</td>\n",
       "      <td>61472.200000</td>\n",
       "      <td>2636.000000</td>\n",
       "      <td>29974.200000</td>\n",
       "      <td>2708.800000</td>\n",
       "    </tr>\n",
       "  </tbody>\n",
       "</table>\n",
       "</div>"
      ],
      "text/plain": [
       "    Channel    Region         Fresh          Milk       Grocery        Frozen  \\\n",
       "0  1.000000  2.536300  14559.205877   2208.175119   2800.815349   3728.313212   \n",
       "1  2.000000  2.607399   8097.834292   9385.741787  14708.961168   1516.968379   \n",
       "2  1.104643  2.579077  27870.936550  14638.993980  10884.156324  12817.729483   \n",
       "3  1.000000  2.401882   5862.696977   4770.080152   6054.600964   1280.599774   \n",
       "4  2.000000  2.800000  25603.000000  43460.600000  61472.200000   2636.000000   \n",
       "\n",
       "   Detergents_Paper   Delicassen  \n",
       "0        409.861420  1054.083734  \n",
       "1       6501.682201  1595.828547  \n",
       "2       1303.068946  7802.130293  \n",
       "3       1957.299207  1004.089938  \n",
       "4      29974.200000  2708.800000  "
      ]
     },
     "execution_count": 17,
     "metadata": {},
     "output_type": "execute_result"
    }
   ],
   "source": [
    "cluster_table"
   ]
  },
  {
   "cell_type": "code",
   "execution_count": null,
   "id": "a01d5393",
   "metadata": {},
   "outputs": [],
   "source": []
  }
 ],
 "metadata": {
  "kernelspec": {
   "display_name": "Python 3",
   "language": "python",
   "name": "python3"
  },
  "language_info": {
   "codemirror_mode": {
    "name": "ipython",
    "version": 3
   },
   "file_extension": ".py",
   "mimetype": "text/x-python",
   "name": "python",
   "nbconvert_exporter": "python",
   "pygments_lexer": "ipython3",
   "version": "3.7.9"
  }
 },
 "nbformat": 4,
 "nbformat_minor": 5
}
