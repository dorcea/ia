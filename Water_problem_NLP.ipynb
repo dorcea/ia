{
 "cells": [
  {
   "cell_type": "code",
   "execution_count": 8,
   "id": "937f4277",
   "metadata": {},
   "outputs": [],
   "source": [
    "import numpy as np\n",
    "import pandas as pd\n",
    "import matplotlib.pyplot as plt\n",
    "import seaborn as sb"
   ]
  },
  {
   "cell_type": "code",
   "execution_count": 9,
   "id": "9d9137c0",
   "metadata": {},
   "outputs": [
    {
     "data": {
      "text/html": [
       "<div>\n",
       "<style scoped>\n",
       "    .dataframe tbody tr th:only-of-type {\n",
       "        vertical-align: middle;\n",
       "    }\n",
       "\n",
       "    .dataframe tbody tr th {\n",
       "        vertical-align: top;\n",
       "    }\n",
       "\n",
       "    .dataframe thead th {\n",
       "        text-align: right;\n",
       "    }\n",
       "</style>\n",
       "<table border=\"1\" class=\"dataframe\">\n",
       "  <thead>\n",
       "    <tr style=\"text-align: right;\">\n",
       "      <th></th>\n",
       "      <th>text</th>\n",
       "      <th>env_problems</th>\n",
       "      <th>pollution</th>\n",
       "      <th>treatment</th>\n",
       "      <th>climate</th>\n",
       "      <th>biomonitoring</th>\n",
       "    </tr>\n",
       "  </thead>\n",
       "  <tbody>\n",
       "    <tr>\n",
       "      <th>0</th>\n",
       "      <td>In the Southern Bug basin wastewater is discha...</td>\n",
       "      <td>1</td>\n",
       "      <td>1.0</td>\n",
       "      <td>NaN</td>\n",
       "      <td>NaN</td>\n",
       "      <td>NaN</td>\n",
       "    </tr>\n",
       "    <tr>\n",
       "      <th>1</th>\n",
       "      <td>This amount is distributed as follows: urban a...</td>\n",
       "      <td>1</td>\n",
       "      <td>1.0</td>\n",
       "      <td>NaN</td>\n",
       "      <td>NaN</td>\n",
       "      <td>NaN</td>\n",
       "    </tr>\n",
       "    <tr>\n",
       "      <th>2</th>\n",
       "      <td>Despite the similar volumes of discharged wast...</td>\n",
       "      <td>1</td>\n",
       "      <td>1.0</td>\n",
       "      <td>NaN</td>\n",
       "      <td>NaN</td>\n",
       "      <td>NaN</td>\n",
       "    </tr>\n",
       "    <tr>\n",
       "      <th>3</th>\n",
       "      <td>They bring 84% of organic pollution 86% of pho...</td>\n",
       "      <td>1</td>\n",
       "      <td>1.0</td>\n",
       "      <td>NaN</td>\n",
       "      <td>NaN</td>\n",
       "      <td>NaN</td>\n",
       "    </tr>\n",
       "    <tr>\n",
       "      <th>4</th>\n",
       "      <td>The input of the industry is between 7–21% and...</td>\n",
       "      <td>1</td>\n",
       "      <td>1.0</td>\n",
       "      <td>NaN</td>\n",
       "      <td>NaN</td>\n",
       "      <td>NaN</td>\n",
       "    </tr>\n",
       "    <tr>\n",
       "      <th>...</th>\n",
       "      <td>...</td>\n",
       "      <td>...</td>\n",
       "      <td>...</td>\n",
       "      <td>...</td>\n",
       "      <td>...</td>\n",
       "      <td>...</td>\n",
       "    </tr>\n",
       "    <tr>\n",
       "      <th>95</th>\n",
       "      <td>Chemical composition of water bodies shall com...</td>\n",
       "      <td>0</td>\n",
       "      <td>NaN</td>\n",
       "      <td>NaN</td>\n",
       "      <td>NaN</td>\n",
       "      <td>NaN</td>\n",
       "    </tr>\n",
       "    <tr>\n",
       "      <th>96</th>\n",
       "      <td>According to the Directive provisions water bo...</td>\n",
       "      <td>0</td>\n",
       "      <td>NaN</td>\n",
       "      <td>NaN</td>\n",
       "      <td>NaN</td>\n",
       "      <td>NaN</td>\n",
       "    </tr>\n",
       "    <tr>\n",
       "      <th>97</th>\n",
       "      <td>Besides in the field of data processing during...</td>\n",
       "      <td>0</td>\n",
       "      <td>NaN</td>\n",
       "      <td>NaN</td>\n",
       "      <td>NaN</td>\n",
       "      <td>NaN</td>\n",
       "    </tr>\n",
       "    <tr>\n",
       "      <th>98</th>\n",
       "      <td>Use of these values was offered by the Monitor...</td>\n",
       "      <td>0</td>\n",
       "      <td>NaN</td>\n",
       "      <td>NaN</td>\n",
       "      <td>NaN</td>\n",
       "      <td>NaN</td>\n",
       "    </tr>\n",
       "    <tr>\n",
       "      <th>99</th>\n",
       "      <td>To determine confidence levels for assessment ...</td>\n",
       "      <td>0</td>\n",
       "      <td>NaN</td>\n",
       "      <td>NaN</td>\n",
       "      <td>NaN</td>\n",
       "      <td>NaN</td>\n",
       "    </tr>\n",
       "  </tbody>\n",
       "</table>\n",
       "<p>100 rows × 6 columns</p>\n",
       "</div>"
      ],
      "text/plain": [
       "                                                 text  env_problems  \\\n",
       "0   In the Southern Bug basin wastewater is discha...             1   \n",
       "1   This amount is distributed as follows: urban a...             1   \n",
       "2   Despite the similar volumes of discharged wast...             1   \n",
       "3   They bring 84% of organic pollution 86% of pho...             1   \n",
       "4   The input of the industry is between 7–21% and...             1   \n",
       "..                                                ...           ...   \n",
       "95  Chemical composition of water bodies shall com...             0   \n",
       "96  According to the Directive provisions water bo...             0   \n",
       "97  Besides in the field of data processing during...             0   \n",
       "98  Use of these values was offered by the Monitor...             0   \n",
       "99  To determine confidence levels for assessment ...             0   \n",
       "\n",
       "    pollution  treatment  climate  biomonitoring  \n",
       "0         1.0        NaN      NaN            NaN  \n",
       "1         1.0        NaN      NaN            NaN  \n",
       "2         1.0        NaN      NaN            NaN  \n",
       "3         1.0        NaN      NaN            NaN  \n",
       "4         1.0        NaN      NaN            NaN  \n",
       "..        ...        ...      ...            ...  \n",
       "95        NaN        NaN      NaN            NaN  \n",
       "96        NaN        NaN      NaN            NaN  \n",
       "97        NaN        NaN      NaN            NaN  \n",
       "98        NaN        NaN      NaN            NaN  \n",
       "99        NaN        NaN      NaN            NaN  \n",
       "\n",
       "[100 rows x 6 columns]"
      ]
     },
     "execution_count": 9,
     "metadata": {},
     "output_type": "execute_result"
    }
   ],
   "source": [
    "#afisam data setul water_problem trebuie sa punem encoding ca sa ne afiseze cu litere latine\n",
    "df = pd.read_csv('water_problem_nlp_en_for_Kaggle_100.csv', sep=';')\n",
    "df"
   ]
  },
  {
   "cell_type": "code",
   "execution_count": 10,
   "id": "6efd3d1b",
   "metadata": {},
   "outputs": [],
   "source": [
    "#procesarea textului, trebuie sa importam clasele\n",
    "from sklearn.base import BaseEstimator, TransformerMixin"
   ]
  },
  {
   "cell_type": "code",
   "execution_count": 11,
   "id": "8a86fcc9",
   "metadata": {},
   "outputs": [],
   "source": [
    "# modul 1, normalizare     \n",
    "#self obiectul care cheama functia\n",
    "class TextNormalizer(BaseEstimator, TransformerMixin):\n",
    "    def fit(self, X, y=None):\n",
    "        return self\n",
    "#x este un string\n",
    "    def transform(self, X, y=None):\n",
    "        #creem o copie\n",
    "        X_copy = X.copy()\n",
    "        for i in range(len(X_copy)):\n",
    "            X_copy[i] = X_copy[i].lower()              \n",
    "# scoatem new linerulie\n",
    "            X_copy[i] = X_copy[i].replace('\\n', ' ')\n",
    "            X_copy[i] = X_copy[i].replace('\\r', ' ')\n",
    "# functia strip scoate din stinga si dreapta spatiile\n",
    "            X_copy[i] = X_copy[i].strip()    \n",
    "        return X_copy"
   ]
  },
  {
   "cell_type": "code",
   "execution_count": 12,
   "id": "65847a37",
   "metadata": {},
   "outputs": [],
   "source": [
    "X = df['text'].values\n",
    "y = df['env_problems'].values"
   ]
  },
  {
   "cell_type": "code",
   "execution_count": 13,
   "id": "d12a61c1",
   "metadata": {},
   "outputs": [
    {
     "data": {
      "text/plain": [
       "array(['In the Southern Bug basin wastewater is discharged from 341 organized sources (Map 5). In 2011 (reference year) 211 mln. m3 was discharged in total.',\n",
       "       'This amount is distributed as follows: urban and rural housing wastewater treatment facilities (WWTPs - vodocanals) – 70 mln. m3 (57 users) industry – 50 mln. m3 (79 users) agriculture – 90 mln. m3 (193 users) other users – 1 mln. m3 (12 users) (Picture. 2.1). ',\n",
       "       'Despite the similar volumes of discharged wastewater major part of pollutants comes with communal WWTPs.',\n",
       "       'They bring 84% of organic pollution 86% of phosphate ions and 84% of mineral nitrogen 91% of ammonia nitrogen 87% nitrate nitrogen and 79% nitrite nitrogen.',\n",
       "       'The input of the industry is between 7–21% and agriculture has the lowest impact on water bodies - 0–6%. Of the 92 urban areas only 51 localities (55%) have centralized collection of communal waste waters and their monitoring. Among the 2878 villages 6 of them (0.2%) have such a monitoring.',\n",
       "       'Settlements that do not have sewage systems usually do not have central water supply Vodocanals of the Departments of Housing most of which are in communal ownership collect wastewater from users to treat them at communal WWTPs and then discharge back into the receiving surface waters such as Southern Bug and its tributaries of the 1st and 2nd orders.',\n",
       "       'Equipment of WWTPs is very worn-out the amount of wastewater often exceeds their treatment capacity and the waters can enter the receiving waters without proper treatment.',\n",
       "       'The current state of sewage networks is a source of concern since about 24% of them due to financial difficulties were not repaired.',\n",
       "       'Consequently in Ukraine on average 2 accidents occur at 1 km network per year which is much higher than the corresponding figure in the EU and it contributes to further pollution of surface waters. These discharges are not monitored.',\n",
       "       'The load of pollutants from accidental discharges cannot presently be estimated.',\n",
       "       'The degree of connectivity of the population to WWTPs varies widely - from 11% to 95%. The maximum rate is observed in Pivdennoukrainsk.',\n",
       "       'In large cities with EH close or greater than 100000 EH connection to sewers ranges 85-92 80% in towns usually no more than 30% in rural settlements. Due to lack of data no accurate estimates can be given.',\n",
       "       'Based on expert judgment taking that average degree of connectivity of the urban population to WWTPs is approximately 80%. The total load of inorganic compounds of nitrogen produced in 2011 at wastewater facilities with >2000 was more than 488 tons and their spatial distribution ',\n",
       "       'The obtained results show that the main part (77%) of inorganic nitrogen comes to waste waters from three the biggest oblast centers – Vinnistya Khmelnitsky and Kirogovrad.',\n",
       "       'The majority of the wastewater treatment facilities in the Southern Bug basin are equipped with the facilities for biological treatment of wastewaters.',\n",
       "       'This method allows extracting only a part of pollutants containing nitrogen and phosphorus.',\n",
       "       'Technologies of deep extraction of these compounds are not used in Ukraine due to their high cost.',\n",
       "       'The existing wastewater treatment facilities were constructed during the Soviet time they are physically and technologically outdated they work inefficiently.',\n",
       "       'Very often the volumes of wastewater exceed designed values which lead to additional pollution.',\n",
       "       'Most of wastewater treatment facilities require urgent modernization and reconstruction.',\n",
       "       'According to the obtained data wastewater facilities with the lowest efficiency regarding Ninorg treatment are in Vatutino Tulchin Bashtanka Smoline settlements.',\n",
       "       'Wastewater facilities of the large cities ( > 100000) namely Kirovograd Vinnistya Khmelnitsky also work ineffectively and lead to increased contains of nitrogen in the surface waters.',\n",
       "       'There is the same tendency for compounds NH4 + as for inorganic nitrogen in total.',\n",
       "       'The major discharges are done by three main cities (Vinnitsa Khmelnitsky and Kirovograd). Here we can observe the direct dependency of discharges from the number of population.',\n",
       "       'In the same time significant discharge of ammonia nitrogen is done from WWTPs in Vatutino Bashtanka Tulchin and Khrystynivka which is also related to their improper functioning.',\n",
       "       'To confirm this fact we provide the values of compounds NH4 + per EH which have the highest values in the above mentioned settlements ',\n",
       "       'Similar to the other compounds of nitrogen its discharges in nitrate form are done by the biggest cities: Vinnitsya Khmelnitsky and Kirovograd',\n",
       "       'The biggest discharge per EH is observed in Kirovograd and Khmilnyk - 188 kg/ and 179 kg/ accordingly.',\n",
       "       'To conclude the issue of the pollution of the Southern Bug by inorganic nitrogen compounds we made a research of the change in its contains along the length of the river.',\n",
       "       'There are two different parts of the river: 1. 700 m upstream Khmelnitsky till 4 km downstream Vinnitsya and 2. from Vinnitsya till Nova Odesa vllage.',\n",
       "       'At the first part the concentrations of mineral forms of nitrogen are much higher comparing with the second part and in its composition ammonia forms of nitrogen dominate whereas at the second part nitrogen in form of nitrogen ions dominates.',\n",
       "       'Based on this the conclusion was done that at the first part the increase of the concentrations of mineral nitrogen is caused by entering of significant number of wastewaters into the river.',\n",
       "       'The worst conditions are observed at the part Khmelnitsky – Khmilnyk (Picture 2.8)',\n",
       "       'Such city as Khmelnitsky (>200000) generates a large amount of wastewaters which does not allow reaching effective level of its dilution by natural waters downstream the discharge.',\n",
       "       'During the process of nitrification around 46 mg 0/mg is spent which lead to significant reduction of oxygen concentrations in water and creates the threat of the lack of oxygen.',\n",
       "       'The important factor of water bodies eutrofication which limits production of organic matter is phosphorus.',\n",
       "       'The order of values of its organic forms established due to mineralization of autochtonal detritus and mineral forms entering due to allochthonous washing out is almost the same.',\n",
       "       'Mineralization of organic phosphorus in bottom sediments reaches 40–80% and as we found out during the project implementation it intensified in autumn-winter period.',\n",
       "       'This leads to balance destruction between solid and liquid phases and causes the process of phosphorus compounds diffusion back into the water which takes place intensively in anaerobic conditions.',\n",
       "       'In the Southern Bug basin the main part of the above mentioned compounds (71%) are discharged with wastewaters of Vinnistya Khmelnitsky Kirovograd Uman and Pervomaysk (Map 7).',\n",
       "       'It is worth of mentioning the low level of treatment of phosphor compounds in wastewater of Smoline Katerynopil Sazonivka Vatutino Kyrovograd and Khmelnitsky.',\n",
       "       'Phosphorus belongs to the elements which hardly leave water ecosystems in the process of selfpurification.',\n",
       "       'Dynamics of phosphate ions along the length of Southern Bug convincingly shows its priority entering with wastewaters of cities mainly Khmelnytsky and Khmilnyk.',\n",
       "       'It is well known that phosphorus is one of the components of detergents and with wastewaters from the settlements enters the water bodies.',\n",
       "       'Insignificant increase of the concentrations of min in lower part of the river should be further investigated. We can assume that it can be related wit not only wastewaters but also with diffusion of phosphate ions out of bottom sediments.',\n",
       "       'Most of the population of Southern Bug basin which is 3.08 million (73%) collects their wastewater into individual sewage tanks or dumps them directly on the landscape.',\n",
       "       'Human extracts lead to discharge of nitrogen and organic matter in wastewater.',\n",
       "       'Main part (86%) of phosphate ions in wastewaters comes with wastewaters of Smoline mine Ladyzhyn electric power station “Bos” Voznesensk (Picture 2.15). ',\n",
       "       'Major part of nitrogen in nitrate form comes into surface waters with wastewaters of Ingul mine Smoline mine Ladyzhyn electric power station “BOS” in Voznesensk (Picture 2.14). ',\n",
       "       'Compared with vodocanals discharging 488 tons / year of Nmineral and 52 tons / year of Pmineral compounds the total contribution of industrial is significantly lower: 86.2 tons / year and 8.1 tons / year correspondingly.',\n",
       "       'In total 2.4 tons of nitrogen in inorganic forms and 1.6 tons of phosphates are received with the wastewaters of agricultural enterprises per year.',\n",
       "       'From November to April the concentration of nitrate ions varied from 2 to 9 mg/dm3 and in September from 0.5 to 2 mg/dm3 except for the points down from the major pollutants discharges - Khmelnitsky and Vinnitsa water channels and Pervozvanivka village down from Ingulsk mine wastewater discharges.',\n",
       "       'Thus Khmelnytsky carries the greatest risk for the deterioration of the ecological status in the Southern Bug river basin.',\n",
       "       'Large amount of wastewater leads to a sharp decrease in the concentration of dissolved oxygen (Pic. 2.24) The main amount of organic substances pollution assessed using BOD20 is also formed by contribution of three main cities: Vinnitsya Khmelnitsky and Kirovograd.',\n",
       "       'Southern Bug river is one of big rivers of the Black Sea basin and is the biggest river basin which is fully located in Ukraine.',\n",
       "       'Its basin borders with Dnister river in the west and with Dnipro river – in the north and in the east.',\n",
       "       'The catchment area of the basin is 63700 km2 river length is 806 km.',\n",
       "       'Southern Bug basin is located on the territory of seven Oblasts in Ukraine.',\n",
       "       'The biggest parts of basin area are located in the following Oblasts: Vinnytsya – 25.7% Kirovograd – 24.2% Mykolayiv – 23.2% and Cherkasy – 13.2% (Map 1).',\n",
       "       'The river source is located on Podilska Elevation near the village Kholodets Khmelnytsky Oblast.',\n",
       "       'There are 6594 rivers flowing in Southern Bug basin',\n",
       "       'The basin includes 189 water storage reservoirs and 9640 lakes and ponds.',\n",
       "       'Southern Bug basin is located in the right-bank part of Ukraine spreads from the north-west to the south-east and is located at the Eastern Plain.',\n",
       "       'The present relief of the area has been formed under the influence of geological processes and includes highlands and lowlands.',\n",
       "       'Southern Bug basin is located within three geomorphologic regions: its upper part lies on Podilska Elevation middle part – on Dnieper Elevation and lower part – on Black-Sea Lowland.',\n",
       "       'At Podilska and Dnieper Elevations relief is flat: here water catchment area is a plateau with the heights 120-396 m very dissected by deeply incised (up to 150 m) river valleys.',\n",
       "       'Absolute elevations vary from 120-150 m in the north to 10-20 m in the south.',\n",
       "       'Here vegetation covers 12% of the whole area. 9% of them comprises forests about 2% - meadows and about 1% - bogs.',\n",
       "       'Air circulation with which air displacement from Atlantic Arctic and Mediterranean is connected plays an important role in climate formation in the Southern Bug basin.',\n",
       "       'In the upper and middle parts of the basin the climate is moderately continental.',\n",
       "       'Climate of southern districts is influenced by the Black Sea and in the downstream of the river gradually changes to the drought climate.',\n",
       "       'Considerable size of the basin from the north-west to the south-east causes noticeable differences in distribution of air temperature.',\n",
       "       'Average annual air temperature varies from 7.1oC to 10.0oC.',\n",
       "       'Average multi-annual air temperature in the upper and middle parts of the basin varies within 7.1-8.1oC.',\n",
       "       'Maximum temperature in summer reaches 39oC minimum temperature in cold winter days – up to -38oC.',\n",
       "       'For this part of the basin winter season is characterized by precipitations in the form of snow and frequent fogs.',\n",
       "       'The average snow cover height is 10 to 15 cm. In some years winter can be long-lasting and severe.',\n",
       "       'Spring is characterized by sharp transition from warming up to cooling down from dry to rainy weather.',\n",
       "       'In May thunderstorms begin.',\n",
       "       'Weather conditions of summer season are distinguished by considerable rise in temperature many bright days increased precipitation active thunderstorms.',\n",
       "       'Autumn period especially its second half is characterized by many dull days lasting precipitations and fogs.',\n",
       "       'Annual norm of precipitations in the upper and middle parts of the basin makes from 669 mm to 550 mm gradually reducing from the north to the south.',\n",
       "       'Lower part of the Southern Bug basin is located within the steppe zone of Ukraine with moderately continental climate characterized by warm summer and soft short winter.',\n",
       "       'Here average annual air temperature varies from 8.00oC to 10.00oC. Maximum air temperature (up to 40.0oC) is observed in July-August minimum temperature (up to minus 35.0oC) is observed in January.',\n",
       "       'In the lower part of the basin snow cover is set in the second half of December and melts in the end of February – beginning of March.',\n",
       "       'The average height of snow cover is 5-8 cm. Frost penetration depth in the middle and lower part of the basin makes 20-50 cm.',\n",
       "       'The average amount of precipitation in the lower part of the basin makes 470 mm to 540 mm. The relative average annual air humidity makes 60-65%.',\n",
       "       'Water bodies despite of their category according to the EU WFD should belong to a type by system A or B.',\n",
       "       'Within the Southern Bug river basin district there are water bodies of four out of five categories namely rivers lakes transitional artificial and heavily modified water bodies.',\n",
       "       'Bug estuary as a part of Dnieper-Bug estuary is a transitional water.',\n",
       "       'Ladyzhyn water storage reservoir due to its big volume and discharge of heated waters from heat power plan is characterized by intensification of biological processes and increase in biotope and biological diversity.',\n",
       "       'Environmental status of this water storage reservoir is defined as good.',\n",
       "       'From the lower reaches of Ladyzhyn electric power plant to the upper course of Oleksandrivske water storage reservoir due to alternation of rapid and reach parts in conditions of quicker river flow and saturation of water with oxygen big diversity of biotic communities is observed.',\n",
       "       'The site in the area of Mygiya rapids can be considered to be a reference site.',\n",
       "       'Assessment of chemical status of the water bodies under consideration in the Southern Bug basin was done with account for the list of priority substances and other hazardous pollutants for which the Directive 2008/105/EU sets maximum admissible levels of their concentration in natural waters (EQS) with regard to requirements of the Directive 2009/90/EU.',\n",
       "       'Chemical composition of water bodies shall comply with requirements of environmental goals for surface waters set forth in Article 4 of WFD.',\n",
       "       'According to the Directive provisions water bodies can be classified as characterized by good chemical status in case if concentrations of priority pollutants in water do not exceed the environmental quality standards (EQS) established by the said document.',\n",
       "       'Besides in the field of data processing during the assessment of water status the LOQ (limits of quantity) values were used instead of LOD (limits of detection) values.',\n",
       "       'Use of these values was offered by the Monitoring Expert Group of the International Commission for the Protection of Danube River (ICPDR) and is determined in the Directive 2009/90/EU.',\n",
       "       'To determine confidence levels for assessment by general physical and chemical parameters we took into account the data available for the year 2011 and measurement results obtained throughout 2012 under the project.'],\n",
       "      dtype=object)"
      ]
     },
     "execution_count": 13,
     "metadata": {},
     "output_type": "execute_result"
    }
   ],
   "source": [
    "X"
   ]
  },
  {
   "cell_type": "code",
   "execution_count": 14,
   "id": "79184cbc",
   "metadata": {},
   "outputs": [],
   "source": [
    "#trebuie sa cautam hapacsele\n",
    "import nltk\n",
    "from nltk.probability import FreqDist\n",
    "from nltk.corpus import stopwords\n",
    "from nltk.stem import PorterStemmer\n",
    "from nltk.tokenize import word_tokenize"
   ]
  },
  {
   "cell_type": "code",
   "execution_count": 15,
   "id": "098f10cd",
   "metadata": {},
   "outputs": [],
   "source": [
    "class WordExctractor(BaseEstimator, TransformerMixin): #gaseste hapaxele si  \n",
    "    def __init__(self, language, tokenize):\n",
    "        self.language = language\n",
    "        self.stopwords = stopwords.words(self.language)\n",
    "        self.tokenize = tokenize\n",
    "        \n",
    "    def fit(self, X, y=None):\n",
    "        general_freq = FreqDist()\n",
    "        for txt in X:\n",
    "            freq_dist = FreqDist(self.tokenize(txt)) #freq_dist calculeaza distributia pe toate textele\n",
    "            general_freq.update(freq_dist)\n",
    "        self.hapaxes = general_freq.hapaxes()\n",
    "        return self\n",
    "        \n",
    "    def transform(self, X, y=None):\n",
    "        X_copy = X.copy()\n",
    "        for i in range(len(X_copy)):\n",
    "            X_copy[i] = ' '.join([token for token in self.tokenize(X_copy[i])\n",
    "                if token not in self.stopwords and token not in self.hapaxes])\n",
    "        return X_copy"
   ]
  },
  {
   "cell_type": "code",
   "execution_count": 16,
   "id": "a5b6d866",
   "metadata": {},
   "outputs": [],
   "source": [
    "#Pas 3. aplicam steemer\n",
    "class ApplyStemmer(BaseEstimator, TransformerMixin):\n",
    "    def __init__(self, stemmer, tokenize):\n",
    "        self.stemmer = stemmer\n",
    "        self.tokenize = tokenize\n",
    "        \n",
    "    def fit(self, X, y=None):\n",
    "        return self\n",
    "    \n",
    "    \n",
    "    def transform(self, X, y=None):\n",
    "        X_copy = X.copy()\n",
    "        for i in range(len(X_copy)):\n",
    "            X_copy[i] = ' '.join([self.stemmer.stem(token)\n",
    "                    for token in self.tokenize(X_copy[i])])\n",
    "        return X_copy"
   ]
  },
  {
   "cell_type": "code",
   "execution_count": 17,
   "id": "255ed260",
   "metadata": {},
   "outputs": [],
   "source": [
    "# vedem rezultatul cu Pipeline si LogisticRegression"
   ]
  },
  {
   "cell_type": "code",
   "execution_count": 18,
   "id": "5cc25797",
   "metadata": {},
   "outputs": [],
   "source": [
    "#unim toate componenetele impreuna cu sklearn\n",
    "from sklearn.model_selection import train_test_split\n",
    "from sklearn.metrics import accuracy_score, plot_confusion_matrix\n",
    "from sklearn.pipeline import Pipeline\n",
    "from sklearn.feature_extraction.text import CountVectorizer\n",
    "from sklearn.linear_model import LogisticRegression"
   ]
  },
  {
   "cell_type": "code",
   "execution_count": 19,
   "id": "7981887d",
   "metadata": {},
   "outputs": [],
   "source": [
    "pipe = Pipeline([\n",
    "    ('Normalization', TextNormalizer()),\n",
    "    ('Word Extraction', WordExctractor('english', word_tokenize)),\n",
    "    ('Apply Stemmer', ApplyStemmer(PorterStemmer(), word_tokenize)),\n",
    "    ('Vectorizarion', CountVectorizer()),\n",
    "    ('Model', LogisticRegression())\n",
    "])"
   ]
  },
  {
   "cell_type": "code",
   "execution_count": 20,
   "id": "f49adf3d",
   "metadata": {},
   "outputs": [],
   "source": [
    "X_train, X_test, y_train, y_test = train_test_split(X, y, random_state=42)"
   ]
  },
  {
   "cell_type": "code",
   "execution_count": 21,
   "id": "e4f9af08",
   "metadata": {},
   "outputs": [
    {
     "data": {
      "text/plain": [
       "Pipeline(steps=[('Normalization', TextNormalizer()),\n",
       "                ('Word Extraction',\n",
       "                 WordExctractor(language='english',\n",
       "                                tokenize=<function word_tokenize at 0x0000011218207E58>)),\n",
       "                ('Apply Stemmer',\n",
       "                 ApplyStemmer(stemmer=<PorterStemmer>,\n",
       "                              tokenize=<function word_tokenize at 0x0000011218207E58>)),\n",
       "                ('Vectorizarion', CountVectorizer()),\n",
       "                ('Model', LogisticRegression())])"
      ]
     },
     "execution_count": 21,
     "metadata": {},
     "output_type": "execute_result"
    }
   ],
   "source": [
    "pipe.fit(X_train, y_train)"
   ]
  },
  {
   "cell_type": "code",
   "execution_count": 22,
   "id": "dbf546e8",
   "metadata": {},
   "outputs": [],
   "source": [
    "y_pred = pipe.predict(X_test)"
   ]
  },
  {
   "cell_type": "code",
   "execution_count": 23,
   "id": "efd66dd5",
   "metadata": {},
   "outputs": [
    {
     "data": {
      "text/plain": [
       "array([0, 1, 0, 1, 1, 1, 1, 0, 0, 1, 1, 1, 0, 1, 0, 0, 0, 0, 1, 1, 0, 0,\n",
       "       1, 1, 0], dtype=int64)"
      ]
     },
     "execution_count": 23,
     "metadata": {},
     "output_type": "execute_result"
    }
   ],
   "source": [
    "y_pred"
   ]
  },
  {
   "cell_type": "code",
   "execution_count": 24,
   "id": "e77f682c",
   "metadata": {},
   "outputs": [
    {
     "data": {
      "text/plain": [
       "0.88"
      ]
     },
     "execution_count": 24,
     "metadata": {},
     "output_type": "execute_result"
    }
   ],
   "source": [
    "accuracy_score(y_pred, y_test)"
   ]
  },
  {
   "cell_type": "code",
   "execution_count": 25,
   "id": "7e553ebe",
   "metadata": {},
   "outputs": [
    {
     "data": {
      "text/plain": [
       "<sklearn.metrics._plot.confusion_matrix.ConfusionMatrixDisplay at 0x11218d9f788>"
      ]
     },
     "execution_count": 25,
     "metadata": {},
     "output_type": "execute_result"
    },
    {
     "data": {
      "image/png": "[encoded data removed]",
      "text/plain": [
       "<Figure size 432x288 with 2 Axes>"
      ]
     },
     "metadata": {
      "needs_background": "light"
     },
     "output_type": "display_data"
    }
   ],
   "source": [
    "plot_confusion_matrix(pipe, X_test, y_test)"
   ]
  },
  {
   "cell_type": "code",
   "execution_count": 26,
   "id": "90ee044e",
   "metadata": {},
   "outputs": [],
   "source": [
    "#aflam rezulatul cu KNeighborsClassifier\n",
    "from sklearn.neighbors import KNeighborsClassifier"
   ]
  },
  {
   "cell_type": "code",
   "execution_count": 27,
   "id": "da18fc2f",
   "metadata": {},
   "outputs": [],
   "source": [
    "kne = Pipeline([\n",
    "    ('Normalization', TextNormalizer()),\n",
    "    ('Word Extraction', WordExctractor('english', word_tokenize)),\n",
    "    ('Apply Stemmer', ApplyStemmer(PorterStemmer(), word_tokenize)),\n",
    "    ('Vectorizarion', CountVectorizer()),\n",
    "    ('Model', KNeighborsClassifier())\n",
    "])"
   ]
  },
  {
   "cell_type": "code",
   "execution_count": 28,
   "id": "a3011a98",
   "metadata": {},
   "outputs": [],
   "source": [
    "X_train, X_test, y_train, y_test = train_test_split(X, y, random_state=42)"
   ]
  },
  {
   "cell_type": "code",
   "execution_count": 29,
   "id": "ca1a4c6c",
   "metadata": {},
   "outputs": [
    {
     "data": {
      "text/plain": [
       "Pipeline(steps=[('Normalization', TextNormalizer()),\n",
       "                ('Word Extraction',\n",
       "                 WordExctractor(language='english',\n",
       "                                tokenize=<function word_tokenize at 0x0000011218207E58>)),\n",
       "                ('Apply Stemmer',\n",
       "                 ApplyStemmer(stemmer=<PorterStemmer>,\n",
       "                              tokenize=<function word_tokenize at 0x0000011218207E58>)),\n",
       "                ('Vectorizarion', CountVectorizer()),\n",
       "                ('Model', KNeighborsClassifier())])"
      ]
     },
     "execution_count": 29,
     "metadata": {},
     "output_type": "execute_result"
    }
   ],
   "source": [
    "kne.fit(X_train, y_train)"
   ]
  },
  {
   "cell_type": "code",
   "execution_count": 30,
   "id": "32061af3",
   "metadata": {},
   "outputs": [],
   "source": [
    "y_pred = kne.predict(X_test)"
   ]
  },
  {
   "cell_type": "code",
   "execution_count": 31,
   "id": "786f1f3a",
   "metadata": {},
   "outputs": [
    {
     "data": {
      "text/plain": [
       "array([0, 1, 0, 0, 0, 0, 0, 0, 0, 0, 0, 1, 0, 0, 0, 0, 0, 0, 1, 1, 0, 0,\n",
       "       0, 0, 0], dtype=int64)"
      ]
     },
     "execution_count": 31,
     "metadata": {},
     "output_type": "execute_result"
    }
   ],
   "source": [
    "y_pred"
   ]
  },
  {
   "cell_type": "code",
   "execution_count": 32,
   "id": "a591f2e0",
   "metadata": {},
   "outputs": [
    {
     "data": {
      "text/plain": [
       "0.52"
      ]
     },
     "execution_count": 32,
     "metadata": {},
     "output_type": "execute_result"
    }
   ],
   "source": [
    "accuracy_score(y_pred, y_test)"
   ]
  },
  {
   "cell_type": "code",
   "execution_count": 33,
   "id": "807a18a7",
   "metadata": {},
   "outputs": [
    {
     "data": {
      "text/plain": [
       "1.0"
      ]
     },
     "execution_count": 33,
     "metadata": {},
     "output_type": "execute_result"
    }
   ],
   "source": [
    "# train accuracy\n",
    "accuracy_score(y_train, y_train)"
   ]
  },
  {
   "cell_type": "code",
   "execution_count": 34,
   "id": "efa3f449",
   "metadata": {},
   "outputs": [
    {
     "data": {
      "text/plain": [
       "<sklearn.metrics._plot.confusion_matrix.ConfusionMatrixDisplay at 0x1121b03a708>"
      ]
     },
     "execution_count": 34,
     "metadata": {},
     "output_type": "execute_result"
    },
    {
     "data": {
      "image/png": "[encoded data removed]",
      "text/plain": [
       "<Figure size 432x288 with 2 Axes>"
      ]
     },
     "metadata": {
      "needs_background": "light"
     },
     "output_type": "display_data"
    }
   ],
   "source": [
    "plot_confusion_matrix(kne, X_test, y_test)"
   ]
  },
  {
   "cell_type": "code",
   "execution_count": 35,
   "id": "f38c3040",
   "metadata": {},
   "outputs": [],
   "source": [
    "#aflam rezultatele cu DecisionTreeClassifier\n",
    "from sklearn.tree import DecisionTreeClassifier"
   ]
  },
  {
   "cell_type": "code",
   "execution_count": 36,
   "id": "d82d9d0c",
   "metadata": {},
   "outputs": [],
   "source": [
    "decision = Pipeline([\n",
    "    ('Normalization', TextNormalizer()),\n",
    "    ('Word Extraction', WordExctractor('english', word_tokenize)),\n",
    "    ('Apply Stemmer', ApplyStemmer(PorterStemmer(), word_tokenize)),\n",
    "    ('Vectorizarion', CountVectorizer()),\n",
    "    ('Model', DecisionTreeClassifier())\n",
    "])"
   ]
  },
  {
   "cell_type": "code",
   "execution_count": 37,
   "id": "32a437bf",
   "metadata": {},
   "outputs": [
    {
     "data": {
      "text/plain": [
       "Pipeline(steps=[('Normalization', TextNormalizer()),\n",
       "                ('Word Extraction',\n",
       "                 WordExctractor(language='english',\n",
       "                                tokenize=<function word_tokenize at 0x0000011218207E58>)),\n",
       "                ('Apply Stemmer',\n",
       "                 ApplyStemmer(stemmer=<PorterStemmer>,\n",
       "                              tokenize=<function word_tokenize at 0x0000011218207E58>)),\n",
       "                ('Vectorizarion', CountVectorizer()),\n",
       "                ('Model', DecisionTreeClassifier())])"
      ]
     },
     "execution_count": 37,
     "metadata": {},
     "output_type": "execute_result"
    }
   ],
   "source": [
    "decision.fit(X_train, y_train)"
   ]
  },
  {
   "cell_type": "code",
   "execution_count": 38,
   "id": "71d87330",
   "metadata": {},
   "outputs": [],
   "source": [
    "y_pred = decision.predict(X_test)"
   ]
  },
  {
   "cell_type": "code",
   "execution_count": 39,
   "id": "f3805b25",
   "metadata": {},
   "outputs": [
    {
     "data": {
      "text/plain": [
       "array([0, 1, 0, 1, 1, 1, 1, 0, 0, 1, 1, 1, 0, 1, 0, 0, 0, 0, 1, 1, 0, 0,\n",
       "       1, 1, 0], dtype=int64)"
      ]
     },
     "execution_count": 39,
     "metadata": {},
     "output_type": "execute_result"
    }
   ],
   "source": [
    "y_pred"
   ]
  },
  {
   "cell_type": "code",
   "execution_count": 40,
   "id": "fc8958ce",
   "metadata": {},
   "outputs": [
    {
     "data": {
      "text/plain": [
       "0.88"
      ]
     },
     "execution_count": 40,
     "metadata": {},
     "output_type": "execute_result"
    }
   ],
   "source": [
    "accuracy_score(y_pred, y_test)"
   ]
  },
  {
   "cell_type": "code",
   "execution_count": 41,
   "id": "1cd8e6ae",
   "metadata": {},
   "outputs": [
    {
     "data": {
      "text/plain": [
       "1.0"
      ]
     },
     "execution_count": 41,
     "metadata": {},
     "output_type": "execute_result"
    }
   ],
   "source": [
    "# train accuracy\n",
    "accuracy_score(y_train, y_train)"
   ]
  },
  {
   "cell_type": "code",
   "execution_count": 42,
   "id": "08f13a74",
   "metadata": {},
   "outputs": [
    {
     "data": {
      "text/plain": [
       "<sklearn.metrics._plot.confusion_matrix.ConfusionMatrixDisplay at 0x1121b1d1f48>"
      ]
     },
     "execution_count": 42,
     "metadata": {},
     "output_type": "execute_result"
    },
    {
     "data": {
      "image/png": "[encoded data removed]",
      "text/plain": [
       "<Figure size 432x288 with 2 Axes>"
      ]
     },
     "metadata": {
      "needs_background": "light"
     },
     "output_type": "display_data"
    }
   ],
   "source": [
    "plot_confusion_matrix(decision, X_test, y_test)"
   ]
  },
  {
   "cell_type": "code",
   "execution_count": 43,
   "id": "4b86c549",
   "metadata": {},
   "outputs": [],
   "source": [
    "# aflam rezultatele cu RandomForestClassifier\n",
    "from sklearn.ensemble import RandomForestClassifier"
   ]
  },
  {
   "cell_type": "code",
   "execution_count": 44,
   "id": "582e8997",
   "metadata": {},
   "outputs": [],
   "source": [
    "random = Pipeline([\n",
    "    ('Normalization', TextNormalizer()),\n",
    "    ('Word Extraction', WordExctractor('english', word_tokenize)),\n",
    "    ('Apply Stemmer', ApplyStemmer(PorterStemmer(), word_tokenize)),\n",
    "    ('Vectorizarion', CountVectorizer()),\n",
    "    ('Model', RandomForestClassifier())\n",
    "])"
   ]
  },
  {
   "cell_type": "code",
   "execution_count": 45,
   "id": "4a180a8b",
   "metadata": {},
   "outputs": [
    {
     "data": {
      "text/plain": [
       "Pipeline(steps=[('Normalization', TextNormalizer()),\n",
       "                ('Word Extraction',\n",
       "                 WordExctractor(language='english',\n",
       "                                tokenize=<function word_tokenize at 0x0000011218207E58>)),\n",
       "                ('Apply Stemmer',\n",
       "                 ApplyStemmer(stemmer=<PorterStemmer>,\n",
       "                              tokenize=<function word_tokenize at 0x0000011218207E58>)),\n",
       "                ('Vectorizarion', CountVectorizer()),\n",
       "                ('Model', RandomForestClassifier())])"
      ]
     },
     "execution_count": 45,
     "metadata": {},
     "output_type": "execute_result"
    }
   ],
   "source": [
    "random.fit(X_train, y_train)"
   ]
  },
  {
   "cell_type": "code",
   "execution_count": 46,
   "id": "ef4d88d7",
   "metadata": {},
   "outputs": [],
   "source": [
    "y_pred = random.predict(X_test)"
   ]
  },
  {
   "cell_type": "code",
   "execution_count": 47,
   "id": "fc19a279",
   "metadata": {},
   "outputs": [
    {
     "data": {
      "text/plain": [
       "array([0, 1, 0, 1, 1, 1, 1, 0, 0, 1, 1, 1, 0, 1, 0, 0, 0, 0, 1, 1, 0, 0,\n",
       "       1, 1, 0], dtype=int64)"
      ]
     },
     "execution_count": 47,
     "metadata": {},
     "output_type": "execute_result"
    }
   ],
   "source": [
    "y_pred"
   ]
  },
  {
   "cell_type": "code",
   "execution_count": 48,
   "id": "a9bf2c8b",
   "metadata": {},
   "outputs": [
    {
     "data": {
      "text/plain": [
       "0.88"
      ]
     },
     "execution_count": 48,
     "metadata": {},
     "output_type": "execute_result"
    }
   ],
   "source": [
    "accuracy_score(y_pred, y_test)"
   ]
  },
  {
   "cell_type": "code",
   "execution_count": 49,
   "id": "240fd353",
   "metadata": {},
   "outputs": [
    {
     "data": {
      "text/plain": [
       "1.0"
      ]
     },
     "execution_count": 49,
     "metadata": {},
     "output_type": "execute_result"
    }
   ],
   "source": [
    "# train accuracy\n",
    "accuracy_score(y_train, y_train)"
   ]
  },
  {
   "cell_type": "code",
   "execution_count": 50,
   "id": "d7eaaeb6",
   "metadata": {
    "scrolled": true
   },
   "outputs": [
    {
     "data": {
      "text/plain": [
       "<sklearn.metrics._plot.confusion_matrix.ConfusionMatrixDisplay at 0x1121b306a88>"
      ]
     },
     "execution_count": 50,
     "metadata": {},
     "output_type": "execute_result"
    },
    {
     "data": {
      "image/png": "[encoded data removed]",
      "text/plain": [
       "<Figure size 432x288 with 2 Axes>"
      ]
     },
     "metadata": {
      "needs_background": "light"
     },
     "output_type": "display_data"
    }
   ],
   "source": [
    "plot_confusion_matrix(random, X_test, y_test)"
   ]
  }
 ],
 "metadata": {
  "kernelspec": {
   "display_name": "Python 3",
   "language": "python",
   "name": "python3"
  },
  "language_info": {
   "codemirror_mode": {
    "name": "ipython",
    "version": 3
   },
   "file_extension": ".py",
   "mimetype": "text/x-python",
   "name": "python",
   "nbconvert_exporter": "python",
   "pygments_lexer": "ipython3",
   "version": "3.7.9"
  }
 },
 "nbformat": 4,
 "nbformat_minor": 5
}
