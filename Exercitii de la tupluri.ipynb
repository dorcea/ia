{
 "cells": [
  {
   "cell_type": "code",
   "execution_count": 10,
   "id": "a6df9ec6",
   "metadata": {},
   "outputs": [
    {
     "name": "stdout",
     "output_type": "stream",
     "text": [
      "[1, 2, 3, 4, 5, 6, 7, 8, 9, 10, 11, 12, 13, 14, 15, 16, 17, 18, 19, 20, 21, 22, 23, 24, 25, 26, 27, 28, 29, 30, 31, 32, 33, 34, 35, 36, 37, 38, 39, 40, 41, 42, 43, 44, 45, 46, 47, 48, 49, 50]\n",
      "Produsul: 30414093201713378043612608166064768844377641568960512000000000000\n"
     ]
    }
   ],
   "source": [
    "lista = [1,2,3,4,5,6,7,8,9,10,11,12,13,14,15,16,17,18,19,20,21,22,23,24,25,26,27,28,29,30,31,32,33,34,35,36,37,38,39,40,41,42,43,44,45,46,47,48,49,50]\n",
    "\n",
    "def inmultire(lista):\n",
    "    temp = list(lista)\n",
    "    produs = 1 \n",
    "    for x in temp:\n",
    "        produs *= x\n",
    "    return produs\n",
    "print(lista)\n",
    "print(\"Produsul:\",inmultire(lista))"
   ]
  },
  {
   "cell_type": "code",
   "execution_count": 11,
   "id": "ef61acca",
   "metadata": {},
   "outputs": [
    {
     "name": "stdout",
     "output_type": "stream",
     "text": [
      "[1, 2, 3, 4, 5, 6, 7, 8, 9, 10, 11, 12, 13, 14, 15, 16, 17, 18, 19, 20, 21, 22, 23, 24, 25, 26, 27, 28, 29, 30, 31, 32, 33, 34, 35, 36, 37, 38, 39, 40, 41, 42, 43, 44, 45, 46, 47, 48, 49, 50]\n",
      "Suma: 1275\n"
     ]
    }
   ],
   "source": [
    "def suma(lista):\n",
    "    temp = list(lista)\n",
    "    suma = 0 \n",
    "    for x in temp:\n",
    "        suma += x\n",
    "    return suma\n",
    "print(lista)\n",
    "print(\"Suma:\",suma(lista))"
   ]
  },
  {
   "cell_type": "code",
   "execution_count": 12,
   "id": "e3cb4453",
   "metadata": {},
   "outputs": [],
   "source": [
    "string=(\"Louis 'Satchmo' Armstrong (n. 4 iulie 1900,[1][2][3] Orleans Parish⁠(d), Louisiana, SUA – d. 6 iulie 1971,[1][2][3][4] New York City, New York, SUA), cunoscut sub pseudonimul de „Satchmo”, a fost un muzician, trompetist, compozitor și cântăreț de jazz, unul din exponenții cei mai reprezentativi ai 'stilului New Orleans' în muzica de jazz practicată în Chicago în jurul anilor 1920 - 1930.:\")"
   ]
  },
  {
   "cell_type": "code",
   "execution_count": 14,
   "id": "c7de87a0",
   "metadata": {},
   "outputs": [
    {
     "name": "stdout",
     "output_type": "stream",
     "text": [
      "Numarul de litere vocale sunt:\n",
      "114\n"
     ]
    }
   ],
   "source": [
    "# Numarul de Vocale\n",
    "vocale=0\n",
    "for i in string:\n",
    "      if (i=='a' or i=='e' or i=='i' or i=='o' or i=='u' or i=='î' or i=='ă' \n",
    "          or i=='â 'or i=='A' or i=='E' or i=='I' or i=='O' or i=='U' or i=='Î' or i=='Ă' or i=='Â'):\n",
    "            vocale=vocale+1\n",
    "print(\"Numarul de litere vocale sunt:\")\n",
    "print(vocale)"
   ]
  },
  {
   "cell_type": "code",
   "execution_count": 15,
   "id": "85c6cc65",
   "metadata": {},
   "outputs": [
    {
     "name": "stdout",
     "output_type": "stream",
     "text": [
      "Numarul de consoane: 147\n"
     ]
    }
   ],
   "source": [
    "# Nuamrul de consoane\n",
    "consoane=0\n",
    "for i in string:\n",
    "    if (i=='b' or i=='c' or i=='d' or i=='f' or i=='g' or i=='h' or i=='j' \n",
    "        or i=='k' or i=='l' or i=='m' or i=='n' or i=='p' or i=='q' or i=='r' \n",
    "        or i=='s' or i=='t' or i=='ș' or i=='ț' or i=='v' or i=='w' or i=='x' or i=='z' \n",
    "        or i=='B' or i=='C' or i=='D' or i=='F' or i=='G' or i=='H' or i=='J' \n",
    "        or i=='K' or i=='L' or i=='M' or i=='N' or i=='P' or i=='Q' or i=='R' \n",
    "        or i=='S' or i=='T' or i=='Ș' or i=='Ț' or i=='V' or i=='w' or i=='X' or i=='Z'):\n",
    "        consoane=consoane+1\n",
    "print(\"Numarul de consoane:\",consoane)"
   ]
  },
  {
   "cell_type": "code",
   "execution_count": 20,
   "id": "3e7152b0",
   "metadata": {},
   "outputs": [
    {
     "name": "stdout",
     "output_type": "stream",
     "text": [
      "Numarul de simboluri sunt:\n",
      "33\n"
     ]
    }
   ],
   "source": [
    "# Numarul de simboluri\n",
    "simboluri=0\n",
    "for i in string:\n",
    "      if (i==',' or i=='.' or i==';' or i==':' or i=='?' or i=='\"' or i=='\\ 'or i=='|' or i=='!' or i=='@' \n",
    "          or i=='#' or i=='$' or i=='^' or i=='&' or i=='(' or i==')' or i=='=' or i=='`' or i=='~' or i=='{' or i=='}'\n",
    "         or i=='[' or i==']' or i=='~') :\n",
    "            simboluri=simboluri+1\n",
    "print(\"Numarul de simboluri sunt:\")\n",
    "print(simboluri)"
   ]
  },
  {
   "cell_type": "code",
   "execution_count": 27,
   "id": "feff46ca",
   "metadata": {},
   "outputs": [
    {
     "name": "stdout",
     "output_type": "stream",
     "text": [
      "Litere mici: 243\n"
     ]
    }
   ],
   "source": [
    "# Numarul de litere mici\n",
    "mici=0\n",
    "for i in string:\n",
    "    if (i=='a' or i=='e' or i=='i' or i=='o' or i=='u' or i=='ă' or i=='î' or i=='â' or i=='b' or i=='c' or i=='d' \n",
    "        or i=='f' or i=='g' or i=='h' or i=='j' or i=='k' or i=='l' or i=='m' or i=='n' or i=='p' or i=='q' \n",
    "        or i=='r' or i=='s' or i=='t' or i=='ș' or i=='ț' or i=='v' or i=='w' or i=='x' or i=='z'):\n",
    "        mici=mici+1\n",
    "print(\"Litere mici:\",mici)"
   ]
  },
  {
   "cell_type": "code",
   "execution_count": 30,
   "id": "76945617",
   "metadata": {},
   "outputs": [
    {
     "name": "stdout",
     "output_type": "stream",
     "text": [
      "Numarul de litere mari sunt: 22\n"
     ]
    }
   ],
   "source": [
    "# Numarul de litere mari\n",
    "mari=0\n",
    "for i in string:\n",
    "      if (i=='A' or i=='E' or i=='I' or i=='O' or i=='U' or i=='Î' or i=='Ă' or i=='Â' or i=='B' or i=='C' \n",
    "          or i=='D' or i=='F' or i=='G' or i=='H' or i=='J' or i=='K' or i=='L' or i=='M' or i=='N' or i=='P' \n",
    "          or i=='Q' or i=='R' or i=='S' or i=='T' or i=='Ș' or i=='Ț' or i=='V' or i=='w' or i=='X' or i=='Z'):\n",
    "            mari=mari+1\n",
    "print(\"Numarul de litere mari sunt:\",mari)"
   ]
  },
  {
   "cell_type": "code",
   "execution_count": 31,
   "id": "bd2c2438",
   "metadata": {},
   "outputs": [
    {
     "name": "stdout",
     "output_type": "stream",
     "text": [
      "Numarul de cifre: 21\n"
     ]
    }
   ],
   "source": [
    "# Numarul de cifre\n",
    "cifre=0\n",
    "for i in string:\n",
    "      if (i=='1' or i=='2' or i=='3' or i=='4' or i=='5' or i=='6' or i=='7' or i=='8' or i=='9'):\n",
    "            cifre=cifre+1\n",
    "print(\"Numarul de cifre:\",cifre)"
   ]
  },
  {
   "cell_type": "code",
   "execution_count": null,
   "id": "d3ae03c5",
   "metadata": {},
   "outputs": [],
   "source": []
  }
 ],
 "metadata": {
  "kernelspec": {
   "display_name": "Python 3",
   "language": "python",
   "name": "python3"
  },
  "language_info": {
   "codemirror_mode": {
    "name": "ipython",
    "version": 3
   },
   "file_extension": ".py",
   "mimetype": "text/x-python",
   "name": "python",
   "nbconvert_exporter": "python",
   "pygments_lexer": "ipython3",
   "version": "3.7.9"
  }
 },
 "nbformat": 4,
 "nbformat_minor": 5
}
