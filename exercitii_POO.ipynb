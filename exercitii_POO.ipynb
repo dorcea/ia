{
 "cells": [
  {
   "cell_type": "code",
   "execution_count": 88,
   "id": "ab2900c8",
   "metadata": {},
   "outputs": [
    {
     "ename": "TypeError",
     "evalue": "'int' object is not callable",
     "output_type": "error",
     "traceback": [
      "\u001b[1;31m---------------------------------------------------------------------------\u001b[0m",
      "\u001b[1;31mTypeError\u001b[0m                                 Traceback (most recent call last)",
      "\u001b[1;32m<ipython-input-88-fc6b5ed9efc8>\u001b[0m in \u001b[0;36m<module>\u001b[1;34m\u001b[0m\n\u001b[0;32m     16\u001b[0m \u001b[1;33m\u001b[0m\u001b[0m\n\u001b[0;32m     17\u001b[0m \u001b[0mnewCube\u001b[0m \u001b[1;33m=\u001b[0m \u001b[0mCube\u001b[0m\u001b[1;33m(\u001b[0m\u001b[1;36m3\u001b[0m\u001b[1;33m)\u001b[0m\u001b[1;33m\u001b[0m\u001b[1;33m\u001b[0m\u001b[0m\n\u001b[1;32m---> 18\u001b[1;33m \u001b[0mprint\u001b[0m\u001b[1;33m(\u001b[0m\u001b[0mNewCube\u001b[0m\u001b[1;33m.\u001b[0m\u001b[0mvolume\u001b[0m\u001b[1;33m(\u001b[0m\u001b[1;33m)\u001b[0m\u001b[1;33m)\u001b[0m\u001b[1;33m\u001b[0m\u001b[1;33m\u001b[0m\u001b[0m\n\u001b[0m",
      "\u001b[1;31mTypeError\u001b[0m: 'int' object is not callable"
     ]
    }
   ],
   "source": [
    "# setari pentru Cube cu 4 functii\n",
    "class Cube:\n",
    "    def total_area (self, total_area):\n",
    "        self.total_area = self.edge**3\n",
    "        \n",
    "    def volume (self, volume):\n",
    "        self.volume = self.edge**3\n",
    "    \n",
    "    def __init__(self, edge):\n",
    "        self.edge = edge\n",
    "        \n",
    "    def edge(self, total_area, volume, __init__):\n",
    "        self.total_area = total_area\n",
    "        self.volume = volume\n",
    "        self.__init__= edge\n",
    "        \n",
    "newCube = Cube(3)\n",
    "print(NewCube.volume())"
   ]
  },
  {
   "cell_type": "code",
   "execution_count": null,
   "id": "39abc652",
   "metadata": {},
   "outputs": [],
   "source": []
  },
  {
   "cell_type": "code",
   "execution_count": 33,
   "id": "0fa55868",
   "metadata": {},
   "outputs": [
    {
     "name": "stdout",
     "output_type": "stream",
     "text": [
      "153.86\n"
     ]
    }
   ],
   "source": [
    "# setari pentru Circle cu  functii\n",
    "class Circle():\n",
    "    def __init__(self, r,l):\n",
    "        self.radius = r\n",
    "    \n",
    "    def length(self,l):\n",
    "        self.length=l\n",
    "        \n",
    "    def area(self):\n",
    "        return self.radius**2*3.14\n",
    "\n",
    "NewCircle = Circle(7,2)\n",
    "print(NewCircle.area())"
   ]
  },
  {
   "cell_type": "code",
   "execution_count": null,
   "id": "8d37efbd",
   "metadata": {},
   "outputs": [],
   "source": []
  }
 ],
 "metadata": {
  "kernelspec": {
   "display_name": "Python 3",
   "language": "python",
   "name": "python3"
  },
  "language_info": {
   "codemirror_mode": {
    "name": "ipython",
    "version": 3
   },
   "file_extension": ".py",
   "mimetype": "text/x-python",
   "name": "python",
   "nbconvert_exporter": "python",
   "pygments_lexer": "ipython3",
   "version": "3.7.9"
  }
 },
 "nbformat": 4,
 "nbformat_minor": 5
}
