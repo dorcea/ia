{
 "cells": [
  {
   "cell_type": "code",
   "execution_count": 1,
   "id": "68279389",
   "metadata": {},
   "outputs": [
    {
     "name": "stdout",
     "output_type": "stream",
     "text": [
      "x=2\n",
      "a=3\n",
      "b=4\n",
      "c=5\n"
     ]
    }
   ],
   "source": [
    "x=int(input('x='))\n",
    "a=int(input('a='))\n",
    "b=int(input('b='))\n",
    "c=int(input('c='))\n",
    "rezultat=(a*(x**x)+b*x+c)"
   ]
  },
  {
   "cell_type": "code",
   "execution_count": 2,
   "id": "4beefe15",
   "metadata": {},
   "outputs": [
    {
     "name": "stdout",
     "output_type": "stream",
     "text": [
      "25\n"
     ]
    }
   ],
   "source": [
    "print(rezultat)"
   ]
  },
  {
   "cell_type": "code",
   "execution_count": 3,
   "id": "70943592",
   "metadata": {},
   "outputs": [
    {
     "name": "stdout",
     "output_type": "stream",
     "text": [
      "x1=2\n",
      "x2=3\n",
      "y1=4\n",
      "y2=5\n"
     ]
    }
   ],
   "source": [
    "x1=int(input('x1='))\n",
    "x2=int(input('x2='))\n",
    "y1=int(input('y1='))\n",
    "y2=int(input('y2='))\n",
    "distanta=(x1,y1)and(x2,y2)"
   ]
  },
  {
   "cell_type": "code",
   "execution_count": 4,
   "id": "c755a103",
   "metadata": {},
   "outputs": [
    {
     "name": "stdout",
     "output_type": "stream",
     "text": [
      "(3, 5)\n"
     ]
    }
   ],
   "source": [
    "print(distanta)"
   ]
  },
  {
   "cell_type": "code",
   "execution_count": null,
   "id": "12918918",
   "metadata": {},
   "outputs": [],
   "source": []
  }
 ],
 "metadata": {
  "kernelspec": {
   "display_name": "Python 3",
   "language": "python",
   "name": "python3"
  },
  "language_info": {
   "codemirror_mode": {
    "name": "ipython",
    "version": 3
   },
   "file_extension": ".py",
   "mimetype": "text/x-python",
   "name": "python",
   "nbconvert_exporter": "python",
   "pygments_lexer": "ipython3",
   "version": "3.7.9"
  }
 },
 "nbformat": 4,
 "nbformat_minor": 5
}
