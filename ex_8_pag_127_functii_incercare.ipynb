{
 "cells": [
  {
   "cell_type": "code",
   "execution_count": 1,
   "id": "4aeb4f82",
   "metadata": {},
   "outputs": [
    {
     "name": "stdout",
     "output_type": "stream",
     "text": [
      "Dati a = 2\n",
      "Dati b = 3\n",
      "Dati c = 4\n",
      "Lungimea medianei laturii de lungimea a= 11.853269591129697\n",
      "Lungimea medianei laturii de lungimea b= 11.6081867662439\n",
      "Lungimea medianei laturii de lungimea c= 8.803408430829505\n"
     ]
    }
   ],
   "source": [
    "# calcularea lungimii laturii unui tringhi\n",
    "import math\n",
    "\n",
    "def main():\n",
    "    a = float(input(\"Dati a = \"))\n",
    "    b = float(input(\"Dati b = \"))\n",
    "    c = float(input(\"Dati c = \"))\n",
    "    \n",
    "    m_a=0.5*math.sqrt(2*(b**b)+2*(c**c)-(a**a))\n",
    "    m_b=0.5*math.sqrt(2*(b**b)+2*(c**c)-(b**b))\n",
    "    m_c=0.5*math.sqrt(2*(b**b)+2*(c**c)-(c**c))\n",
    "    \n",
    "    print(\"Lungimea medianei laturii de lungimea a=\",m_a)\n",
    "    print(\"Lungimea medianei laturii de lungimea b=\",m_b)\n",
    "    print(\"Lungimea medianei laturii de lungimea c=\",m_c)\n",
    "    \n",
    "main()"
   ]
  },
  {
   "cell_type": "markdown",
   "id": "a526a30a",
   "metadata": {},
   "source": []
  }
 ],
 "metadata": {
  "kernelspec": {
   "display_name": "Python 3",
   "language": "python",
   "name": "python3"
  },
  "language_info": {
   "codemirror_mode": {
    "name": "ipython",
    "version": 3
   },
   "file_extension": ".py",
   "mimetype": "text/x-python",
   "name": "python",
   "nbconvert_exporter": "python",
   "pygments_lexer": "ipython3",
   "version": "3.7.9"
  }
 },
 "nbformat": 4,
 "nbformat_minor": 5
}
