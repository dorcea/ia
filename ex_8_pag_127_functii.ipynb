{
 "cells": [
  {
   "cell_type": "code",
   "execution_count": 2,
   "id": "47dfe0ba",
   "metadata": {},
   "outputs": [
    {
     "name": "stdout",
     "output_type": "stream",
     "text": [
      "Dati a = 2\n",
      "Dati b = 3\n",
      "Dati c = 4\n",
      "Lungimea medianei laturii de lungimea a= 3.391164991562634\n",
      "Lungimea medianei laturii de lungimea b= 3.2015621187164243\n",
      "Lungimea medianei laturii de lungimea c= 2.9154759474226504\n"
     ]
    }
   ],
   "source": [
    "# calcularea lungimii laturii unui tringhi\n",
    "import math\n",
    "\n",
    "def main():\n",
    "    a = float(input(\"Dati a = \"))\n",
    "    b = float(input(\"Dati b = \"))\n",
    "    c = float(input(\"Dati c = \"))\n",
    "    \n",
    "    m_a=0.5*math.sqrt(2*(b**2)+2*(c**2)-(a**2))\n",
    "    m_b=0.5*math.sqrt(2*(b**2)+2*(c**2)-(b**2))\n",
    "    m_c=0.5*math.sqrt(2*(b**2)+2*(c**2)-(c**2))\n",
    "    \n",
    "    print(\"Lungimea medianei laturii de lungimea a=\",m_a)\n",
    "    print(\"Lungimea medianei laturii de lungimea b=\",m_b)\n",
    "    print(\"Lungimea medianei laturii de lungimea c=\",m_c)\n",
    "    \n",
    "main()"
   ]
  },
  {
   "cell_type": "markdown",
   "id": "e9579fd3",
   "metadata": {},
   "source": []
  }
 ],
 "metadata": {
  "kernelspec": {
   "display_name": "Python 3",
   "language": "python",
   "name": "python3"
  },
  "language_info": {
   "codemirror_mode": {
    "name": "ipython",
    "version": 3
   },
   "file_extension": ".py",
   "mimetype": "text/x-python",
   "name": "python",
   "nbconvert_exporter": "python",
   "pygments_lexer": "ipython3",
   "version": "3.7.9"
  }
 },
 "nbformat": 4,
 "nbformat_minor": 5
}
