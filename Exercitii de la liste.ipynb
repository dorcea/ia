{
 "cells": [
  {
   "cell_type": "code",
   "execution_count": 1,
   "id": "aaded695",
   "metadata": {},
   "outputs": [
    {
     "name": "stdout",
     "output_type": "stream",
     "text": [
      "Lista cu valori pare dupa index este: [2, 4, 6, 8, 10]\n"
     ]
    }
   ],
   "source": [
    "lista = [1, 2, 3, 4, 5, 6, 7, 8, 9, 10]\n",
    "par = []\n",
    "count = 0\n",
    "for i in lista:\n",
    "    if count % 2 == 1:\n",
    "        par.append(i)\n",
    "    count += 1\n",
    "print(\"Lista cu valori pare dupa index este:\",par)"
   ]
  },
  {
   "cell_type": "code",
   "execution_count": 2,
   "id": "552b275d",
   "metadata": {},
   "outputs": [
    {
     "name": "stdout",
     "output_type": "stream",
     "text": [
      "Suma este = 5050\n"
     ]
    }
   ],
   "source": [
    "# Suma numerelor pina la 0<n<=100\n",
    "\n",
    "numar = 100\n",
    "\n",
    "if numar < 0:\n",
    "   print(\"Introduceti un numar pozitiv\")\n",
    "else:\n",
    "   suma = 0\n",
    "# folosim ciclul while pentru a itera pina la ultimul numar\n",
    "   while(numar > 0):\n",
    "       suma += numar\n",
    "       numar-= 1\n",
    "   print(\"Suma este =\", suma)"
   ]
  },
  {
   "cell_type": "code",
   "execution_count": 3,
   "id": "334f046f",
   "metadata": {},
   "outputs": [
    {
     "name": "stdout",
     "output_type": "stream",
     "text": [
      "Produsul este = 93326215443944152681699238856266700490715968264381621468592963895217599993229915608941463976156518286253697920827223758251185210916864000000000000000000000000\n"
     ]
    }
   ],
   "source": [
    "# Produsul numerelor pina la 0<n<=100\n",
    "\n",
    "numar = 100\n",
    "\n",
    "if numar < 0:\n",
    "    print(\"Introduceti un numar pozitiv\")\n",
    "else:\n",
    "    produs = 1\n",
    "# folosim ciclul while pentru a itera pina la ultimul numar \n",
    "    while(numar > 0):\n",
    "        produs *= numar\n",
    "        numar -= 1\n",
    "    print(\"Produsul este =\", produs)"
   ]
  },
  {
   "cell_type": "code",
   "execution_count": null,
   "id": "23a2bee1",
   "metadata": {},
   "outputs": [],
   "source": []
  }
 ],
 "metadata": {
  "kernelspec": {
   "display_name": "Python 3",
   "language": "python",
   "name": "python3"
  },
  "language_info": {
   "codemirror_mode": {
    "name": "ipython",
    "version": 3
   },
   "file_extension": ".py",
   "mimetype": "text/x-python",
   "name": "python",
   "nbconvert_exporter": "python",
   "pygments_lexer": "ipython3",
   "version": "3.7.9"
  }
 },
 "nbformat": 4,
 "nbformat_minor": 5
}
