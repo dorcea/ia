{
 "cells": [
  {
   "cell_type": "code",
   "execution_count": 5,
   "id": "ab2900c8",
   "metadata": {},
   "outputs": [],
   "source": [
    "# setari pentru Cube cu 4 functii\n",
    "class Cube:\n",
    "    def set_total_area (self, total_area):\n",
    "        self.total_area = total_area\n",
    "        \n",
    "    def set_volume (self, volume):\n",
    "        self.volume = volume\n",
    "    \n",
    "    def set__init__(self, init):\n",
    "        self.init = init\n",
    "        \n",
    "    def edge(self, total_area, volume, init):\n",
    "        self.total_area = total_area\n",
    "        self.volume = volume\n",
    "        self.__init__= init"
   ]
  },
  {
   "cell_type": "code",
   "execution_count": 7,
   "id": "a0123e50",
   "metadata": {},
   "outputs": [],
   "source": [
    "edge = Cube()\n",
    "edge.set_total_area(200)\n",
    "edge.set_volume(500)\n",
    "edge.set__init__(10)"
   ]
  },
  {
   "cell_type": "code",
   "execution_count": 8,
   "id": "66dc7586",
   "metadata": {},
   "outputs": [
    {
     "name": "stdout",
     "output_type": "stream",
     "text": [
      "200\n"
     ]
    }
   ],
   "source": [
    "print(edge.total_area)"
   ]
  },
  {
   "cell_type": "code",
   "execution_count": 9,
   "id": "6efc526a",
   "metadata": {},
   "outputs": [
    {
     "name": "stdout",
     "output_type": "stream",
     "text": [
      "500\n"
     ]
    }
   ],
   "source": [
    "print(edge.volume)"
   ]
  },
  {
   "cell_type": "code",
   "execution_count": 12,
   "id": "9d68b63f",
   "metadata": {},
   "outputs": [
    {
     "name": "stdout",
     "output_type": "stream",
     "text": [
      "10\n"
     ]
    }
   ],
   "source": [
    "print(edge.init)"
   ]
  },
  {
   "cell_type": "code",
   "execution_count": 13,
   "id": "0fa55868",
   "metadata": {},
   "outputs": [],
   "source": [
    "# setari pentru Circle cu 4 functii\n",
    "class Circle:\n",
    "    def set_area (self, area):\n",
    "        self.area = area\n",
    "        \n",
    "    def set_length (self, length):\n",
    "        self.length = length\n",
    "    \n",
    "    def set__init__(self, init):\n",
    "        self.init = init\n",
    "        \n",
    "    def radius(self, area, length, init):\n",
    "        self.area = area\n",
    "        self.length = length\n",
    "        self.__init__= init"
   ]
  },
  {
   "cell_type": "code",
   "execution_count": 15,
   "id": "bf02e85c",
   "metadata": {},
   "outputs": [],
   "source": [
    "radius = Circle()\n",
    "radius.set_area(500)\n",
    "radius.set_length(100)\n",
    "radius.set__init__(10)"
   ]
  },
  {
   "cell_type": "code",
   "execution_count": 16,
   "id": "84bc1d49",
   "metadata": {},
   "outputs": [
    {
     "name": "stdout",
     "output_type": "stream",
     "text": [
      "500\n"
     ]
    }
   ],
   "source": [
    "print(radius.area)"
   ]
  },
  {
   "cell_type": "code",
   "execution_count": 17,
   "id": "38368d1f",
   "metadata": {},
   "outputs": [
    {
     "name": "stdout",
     "output_type": "stream",
     "text": [
      "100\n"
     ]
    }
   ],
   "source": [
    "print(radius.length)"
   ]
  },
  {
   "cell_type": "code",
   "execution_count": 18,
   "id": "c014a2df",
   "metadata": {},
   "outputs": [
    {
     "name": "stdout",
     "output_type": "stream",
     "text": [
      "10\n"
     ]
    }
   ],
   "source": [
    "print(radius.init)"
   ]
  },
  {
   "cell_type": "code",
   "execution_count": null,
   "id": "15c73f4b",
   "metadata": {},
   "outputs": [],
   "source": []
  }
 ],
 "metadata": {
  "kernelspec": {
   "display_name": "Python 3",
   "language": "python",
   "name": "python3"
  },
  "language_info": {
   "codemirror_mode": {
    "name": "ipython",
    "version": 3
   },
   "file_extension": ".py",
   "mimetype": "text/x-python",
   "name": "python",
   "nbconvert_exporter": "python",
   "pygments_lexer": "ipython3",
   "version": "3.7.9"
  }
 },
 "nbformat": 4,
 "nbformat_minor": 5
}
