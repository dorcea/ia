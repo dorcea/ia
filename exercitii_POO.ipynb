{
 "cells": [
  {
   "cell_type": "code",
   "execution_count": 107,
   "id": "00dd2d23",
   "metadata": {},
   "outputs": [
    {
     "name": "stdout",
     "output_type": "stream",
     "text": [
      "8\n"
     ]
    }
   ],
   "source": [
    "# setari pentru Cube cu 4 functii\n",
    "class Cube:\n",
    "    def total_area (self):\n",
    "        return self.edge **2*3\n",
    "        \n",
    "    def volume (self):\n",
    "        return self.edge**3\n",
    "    \n",
    "    def __init__(self, edge):\n",
    "        self.edge = edge\n",
    "        \n",
    "newCube = Cube(2)\n",
    "print(newCube.volume())"
   ]
  },
  {
   "cell_type": "code",
   "execution_count": 33,
   "id": "0fa55868",
   "metadata": {},
   "outputs": [
    {
     "name": "stdout",
     "output_type": "stream",
     "text": [
      "153.86\n"
     ]
    }
   ],
   "source": [
    "# setari pentru Circle cu  functii\n",
    "class Circle():\n",
    "    def __init__(self, r,l):\n",
    "        self.radius = r\n",
    "    \n",
    "    def length(self,l):\n",
    "        self.length=l\n",
    "        \n",
    "    def area(self):\n",
    "        return self.radius**2*3.14\n",
    "\n",
    "NewCircle = Circle(7,2)\n",
    "print(NewCircle.area())"
   ]
  },
  {
   "cell_type": "code",
   "execution_count": 96,
   "id": "b110288b",
   "metadata": {},
   "outputs": [
    {
     "name": "stdout",
     "output_type": "stream",
     "text": [
      "8\n"
     ]
    }
   ],
   "source": []
  },
  {
   "cell_type": "code",
   "execution_count": null,
   "id": "5abb7ba2",
   "metadata": {},
   "outputs": [],
   "source": []
  }
 ],
 "metadata": {
  "kernelspec": {
   "display_name": "Python 3",
   "language": "python",
   "name": "python3"
  },
  "language_info": {
   "codemirror_mode": {
    "name": "ipython",
    "version": 3
   },
   "file_extension": ".py",
   "mimetype": "text/x-python",
   "name": "python",
   "nbconvert_exporter": "python",
   "pygments_lexer": "ipython3",
   "version": "3.7.9"
  }
 },
 "nbformat": 4,
 "nbformat_minor": 5
}
